{
 "cells": [
  {
   "cell_type": "markdown",
   "metadata": {},
   "source": [
    "# The Puzzle "
   ]
  },
  {
   "cell_type": "markdown",
   "metadata": {},
   "source": [
    "Three players A, B, C play the following game. First, A picks a real number between $0$ and $1$ (both inclusive), then B picks a number in the same range (different from A’s choice) and finally C picks a number, also in the same range, (different from the two chosen numbers). We then pick a number in the range uniformly randomly. Whoever’s number is closest to this random number wins the game. Assume that A, B and C all play optimally and their sole goal is to maximise their chances of winning. Also assume that if one of them has several optimal choices, then that player will randomly pick one of the optimal choices.\n",
    "\n",
    "- If A chooses 0, then what is the best choice for B?\n",
    "- What is the best choice for A?\n",
    "- Can you write a program to figure out the best choice for the first player when the game is played among four players?\n",
    "\n",
    "<i style=\"font-size:8pt\">As of July 2019, this puzzle is to be solved in order to apply for the Quantitative Researcher position at Optiver.</i>"
   ]
  },
  {
   "cell_type": "markdown",
   "metadata": {},
   "source": [
    "# 1) Best Strategy for B, given that A chose $a=0$."
   ]
  },
  {
   "cell_type": "markdown",
   "metadata": {},
   "source": [
    "Given that $a=0$ and a choice of B, $b$, the win probability for the choice $c$ of C is:\n",
    "- $1-b$ if $b<c$,\n",
    "- $b/2$ if $b>c$;\n",
    "\n",
    "where we have assumed that, if C chooses a number bigger than $b$, he will choose $b+\\epsilon$ (with $\\epsilon$ aribitrarily small).\n",
    "\n",
    "By solving $1-b=b/2$ we find the best strategy for B.\n",
    "\n",
    "In fact, if B chooses <b>b=<i>2/3</i></b>, it follows that C has no incentives to choose $c=b+\\epsilon$, or any number between $0$ and $b$.\n",
    "\n",
    "In particular, if B chooses $b<2/3$, C will gain by choosing $c=b+\\epsilon$, and if B chooses $b>2/3$, C will gain by choosing $\\forall c\\in(0,b)$."
   ]
  },
  {
   "cell_type": "markdown",
   "metadata": {},
   "source": [
    "# 2) Best strategy for A with three players."
   ]
  },
  {
   "cell_type": "markdown",
   "metadata": {},
   "source": [
    "Let's assume the choice of A to be $a<0.5$ without loss of generality (the case with $a>0.5$ would be symmetrycal).\n",
    "\n",
    "For continuity with the previous question, if $a=\\epsilon$, B would still choose $b=\\frac{2}{3}(1-\\epsilon)+\\epsilon$. In this case A would have the same chances to win as in the previous exercise, plus $\\epsilon$.\n",
    "\n",
    "And this would still be true for some time as $a$ departs from $0$.\n",
    "\n",
    "Clearly, however, this can not be true indefinitely because if $a=0.5$, B will choose $b=0.5\\pm \\epsilon$ and $c=0.5\\mp\\epsilon$, always leaving A with no chance to win. Somewhere in between $0$ and $0.5$ there must be an optimum.\n",
    "\n",
    "If B chooses $b=\\frac{2}{3}(1-a)+a=\\frac{2}{3}+\\frac{1}{3}a$ he has probability to win of at least $(1-a)/3$. But if $a$ is big enough, $b$ will be better off choosing $b=a-\\epsilon$, getting a probability of victory of $a$.\n",
    "\n",
    "The optimum value for the choice of A is reached when the probability of B to win for the two possibly choices ($b=a-\\epsilon$ and $b=\\frac{2}{3}+\\frac{1}{3}a$) are the same, i.e. when $(1-a)/3=a$, i.e. when $a=1/4$.\n",
    "\n",
    "By symmetry, the other optimal value for A is $a=3/4$.\n",
    "\n",
    "Below, a simulation of this problem for 3 and 4 players."
   ]
  },
  {
   "cell_type": "markdown",
   "metadata": {},
   "source": [
    "# 2b) Best strategy for A (and B and C) with 3 players: simulation"
   ]
  },
  {
   "cell_type": "code",
   "execution_count": 1,
   "metadata": {
    "ExecuteTime": {
     "end_time": "2019-06-25T13:18:42.795726Z",
     "start_time": "2019-06-25T13:18:42.718417Z"
    }
   },
   "outputs": [],
   "source": [
    "import numpy as np\n",
    "import anytree as tree\n",
    "import gc"
   ]
  },
  {
   "cell_type": "markdown",
   "metadata": {},
   "source": [
    "For the sake of computation, we discretize the problem, limiting the possible choices of the players to: $0$, $1/N$, $2/N$, ..., $(N-1)/N$."
   ]
  },
  {
   "cell_type": "code",
   "execution_count": 2,
   "metadata": {
    "ExecuteTime": {
     "end_time": "2019-06-25T13:18:42.801722Z",
     "start_time": "2019-06-25T13:18:42.798571Z"
    }
   },
   "outputs": [],
   "source": [
    "N = 100 # number of possible choices"
   ]
  },
  {
   "cell_type": "code",
   "execution_count": 3,
   "metadata": {
    "ExecuteTime": {
     "end_time": "2019-06-25T13:18:42.822332Z",
     "start_time": "2019-06-25T13:18:42.804274Z"
    }
   },
   "outputs": [],
   "source": [
    "def compute_points(choice_set,N=24):\n",
    "    n = len(choice_set)\n",
    "    order = np.argsort(choice_set)\n",
    "    backorder = np.argsort(order)\n",
    "    ochoices = np.array([choice_set[i] for i in order])\n",
    "    #print(order,ochoices)\n",
    "    diff = [(ochoices[i+1]-ochoices[i])/2 for i in range(n-1)]\n",
    "    #print(diff)\n",
    "    outcomes = [ochoices[0]+diff[0]]+[diff[i]+diff[i+1] for i in range(n-2)]+[N-1-ochoices[-1]+diff[-1]]\n",
    "    #print(outcomes)\n",
    "    return [outcomes[i] for i in backorder]"
   ]
  },
  {
   "cell_type": "markdown",
   "metadata": {},
   "source": [
    "We build a tree with all the possible outcomes"
   ]
  },
  {
   "cell_type": "code",
   "execution_count": 4,
   "metadata": {
    "ExecuteTime": {
     "end_time": "2019-06-25T13:19:50.664721Z",
     "start_time": "2019-06-25T13:18:42.860649Z"
    }
   },
   "outputs": [],
   "source": [
    "root = tree.AnyNode(children=[\n",
    "    tree.AnyNode(a=i,children=[\n",
    "        tree.AnyNode(a=i,b=j,children=[\n",
    "            tree.AnyNode(a=i,b=j,c=k,outcome=compute_points([i,j,k],N=N)) for k in range(N) if k not in [i,j]\n",
    "        ]) for j in range(N) if j!=i\n",
    "    ]) for i in range(N)\n",
    "])"
   ]
  },
  {
   "cell_type": "markdown",
   "metadata": {},
   "source": [
    "Write a function \"filter_tree\" that at a specific level of the tree is going to keep only the best choice for the player at that level. It gets rid of all the others leaves which give worst outcomes."
   ]
  },
  {
   "cell_type": "code",
   "execution_count": 5,
   "metadata": {
    "ExecuteTime": {
     "end_time": "2019-06-25T13:19:50.676364Z",
     "start_time": "2019-06-25T13:19:50.668035Z"
    }
   },
   "outputs": [],
   "source": [
    "def filter_tree(upper,outcome_pref,final=False):\n",
    "    leaves = list(upper.children)\n",
    "    vals = [leaf.outcome[outcome_pref] for leaf in leaves]\n",
    "    i_max = np.random.choice(np.argwhere(vals == np.amax(vals)).flatten())\n",
    "    #i_max = np.argmax(vals)\n",
    "    upper.children = [leaves[i_max]]\n",
    "    upper.outcome = leaves[i_max].outcome\n",
    "    if final == True:\n",
    "        return leaves[i_max].descendants[-1]"
   ]
  },
  {
   "cell_type": "markdown",
   "metadata": {},
   "source": [
    "Starting from the last player, we choose his best strategy, given the choices of the previous players. We then move to the second-to-last player and do the same thing. We keep on filtering the tree up to when there is only one path left."
   ]
  },
  {
   "cell_type": "code",
   "execution_count": 6,
   "metadata": {
    "ExecuteTime": {
     "end_time": "2019-06-25T13:19:57.044577Z",
     "start_time": "2019-06-25T13:19:50.680214Z"
    }
   },
   "outputs": [],
   "source": [
    "for a in range(N):\n",
    "    for b in range(N-1):\n",
    "        filter_tree(root.children[a].children[b],-1)\n",
    "for a in range(N):\n",
    "    filter_tree(root.children[a],-2)\n",
    "finalnode = filter_tree(root,-3,final=True)\n",
    "_=gc.collect() # collect the garbage"
   ]
  },
  {
   "cell_type": "code",
   "execution_count": 7,
   "metadata": {
    "ExecuteTime": {
     "end_time": "2019-06-25T13:19:57.054289Z",
     "start_time": "2019-06-25T13:19:57.048186Z"
    }
   },
   "outputs": [
    {
     "name": "stdout",
     "output_type": "stream",
     "text": [
      "The choices will be:\n",
      "a = 0.74 with winning probability = 0.3\n",
      "b = 0.24 with winning probability = 0.44\n",
      "c = 0.64 with winning probability = 0.25\n"
     ]
    }
   ],
   "source": [
    "odds = finalnode.outcome\n",
    "print(f\"The choices will be:\\na = {finalnode.a/N} with winning probability = {odds[0]/N}\\n\\\n",
    "b = {finalnode.b/N} with winning probability = {odds[1]/N}\\n\\\n",
    "c = {finalnode.c/N} with winning probability = {odds[2]/N}\")"
   ]
  },
  {
   "cell_type": "markdown",
   "metadata": {},
   "source": [
    "Obviously in the result above there are rounding errors and there is a degree of randomness. When a player has many optimal options, given the choices of the previous players, we chose the player's strategy at random, among the optimal choices."
   ]
  },
  {
   "cell_type": "markdown",
   "metadata": {},
   "source": [
    "# Same as above, but for 4 players"
   ]
  },
  {
   "cell_type": "markdown",
   "metadata": {},
   "source": [
    "The case with 4 players works in the same way. However, the tree will be deeper, and we will need an extra turn of filtering to reach the optimal solution."
   ]
  },
  {
   "cell_type": "code",
   "execution_count": 8,
   "metadata": {
    "ExecuteTime": {
     "end_time": "2019-06-25T13:19:57.068637Z",
     "start_time": "2019-06-25T13:19:57.057139Z"
    }
   },
   "outputs": [],
   "source": [
    "N = 40 # number of possible choices "
   ]
  },
  {
   "cell_type": "code",
   "execution_count": 9,
   "metadata": {
    "ExecuteTime": {
     "end_time": "2019-06-25T13:22:37.672515Z",
     "start_time": "2019-06-25T13:19:57.070828Z"
    }
   },
   "outputs": [],
   "source": [
    "root = tree.AnyNode(children=[\n",
    "    tree.AnyNode(a=a,children=[\n",
    "        tree.AnyNode(a=a,b=b,children=[\n",
    "            tree.AnyNode(a=a,b=b,c=c,children=[\n",
    "                tree.AnyNode(a=a,b=b,c=c,d=d,outcome=compute_points([a,b,c,d],N=N)) for d in range(N) if d not in [a,b,c] \n",
    "            ]) for c in range(N) if c not in [a,b]\n",
    "        ]) for b in range(N) if b!=a\n",
    "    ]) for a in range(N)\n",
    "])"
   ]
  },
  {
   "cell_type": "code",
   "execution_count": 10,
   "metadata": {
    "ExecuteTime": {
     "end_time": "2019-06-25T13:22:52.688383Z",
     "start_time": "2019-06-25T13:22:37.674853Z"
    }
   },
   "outputs": [],
   "source": [
    "for a in range(N):\n",
    "    for b in range(N-1):\n",
    "        for c in range(N-2):\n",
    "            filter_tree(root.children[a].children[b].children[c],-1)\n",
    "\n",
    "for a in range(N):\n",
    "    for b in range(N-1):\n",
    "        filter_tree(root.children[a].children[b],-2)\n",
    "\n",
    "for a in range(N):\n",
    "    filter_tree(root.children[a],-3)\n",
    "finalnode = filter_tree(root,-4,final=True)\n",
    "_=gc.collect() # collect the garbage"
   ]
  },
  {
   "cell_type": "code",
   "execution_count": 11,
   "metadata": {
    "ExecuteTime": {
     "end_time": "2019-06-25T13:22:52.696904Z",
     "start_time": "2019-06-25T13:22:52.691477Z"
    }
   },
   "outputs": [
    {
     "name": "stdout",
     "output_type": "stream",
     "text": [
      "The choices will be:\n",
      "a = 0.175 with winning probability = 0.1875\n",
      "b = 0.525 with winning probability = 0.3\n",
      "c = 0.8 with winning probability = 0.3125\n",
      "d = 0.2 with winning probability = 0.175\n"
     ]
    }
   ],
   "source": [
    "odds = finalnode.outcome\n",
    "print(f\"The choices will be:\\na = {finalnode.a/N} with winning probability = {odds[0]/N}\\n\\\n",
    "b = {finalnode.b/N} with winning probability = {odds[1]/N}\\n\\\n",
    "c = {finalnode.c/N} with winning probability = {odds[2]/N}\\n\\\n",
    "d = {finalnode.d/N} with winning probability = {odds[3]/N}\")"
   ]
  },
  {
   "cell_type": "markdown",
   "metadata": {},
   "source": [
    "The best choice for A is $a = 1/5 - \\epsilon$"
   ]
  }
 ],
 "metadata": {
  "kernelspec": {
   "display_name": "data_science",
   "language": "python",
   "name": "data_science"
  },
  "language_info": {
   "codemirror_mode": {
    "name": "ipython",
    "version": 3
   },
   "file_extension": ".py",
   "mimetype": "text/x-python",
   "name": "python",
   "nbconvert_exporter": "python",
   "pygments_lexer": "ipython3",
   "version": "3.7.3"
  }
 },
 "nbformat": 4,
 "nbformat_minor": 2
}
